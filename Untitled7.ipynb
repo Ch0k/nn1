{
  "nbformat": 4,
  "nbformat_minor": 0,
  "metadata": {
    "colab": {
      "name": "Untitled7.ipynb",
      "provenance": [],
      "authorship_tag": "ABX9TyPi8Uf9G2OpdIc1sYMV673Y",
      "include_colab_link": true
    },
    "kernelspec": {
      "name": "python3",
      "display_name": "Python 3"
    },
    "language_info": {
      "name": "python"
    }
  },
  "cells": [
    {
      "cell_type": "markdown",
      "metadata": {
        "id": "view-in-github",
        "colab_type": "text"
      },
      "source": [
        "<a href=\"https://colab.research.google.com/github/Ch0k/nn1/blob/main/Untitled7.ipynb\" target=\"_parent\"><img src=\"https://colab.research.google.com/assets/colab-badge.svg\" alt=\"Open In Colab\"/></a>"
      ]
    },
    {
      "cell_type": "code",
      "execution_count": 1,
      "metadata": {
        "colab": {
          "base_uri": "https://localhost:8080/"
        },
        "id": "EQsx_FQal1GP",
        "outputId": "653b3c0c-869b-4f1e-bb39-7d3b33b6f179"
      },
      "outputs": [
        {
          "output_type": "stream",
          "name": "stdout",
          "text": [
            "--2022-04-30 08:31:25--  https://www.dropbox.com/s/9vfy1vi6wsfkxyk/creditcard.csv.zip\n",
            "Resolving www.dropbox.com (www.dropbox.com)... 162.125.6.18, 2620:100:601c:18::a27d:612\n",
            "Connecting to www.dropbox.com (www.dropbox.com)|162.125.6.18|:443... connected.\n",
            "HTTP request sent, awaiting response... 301 Moved Permanently\n",
            "Location: /s/raw/9vfy1vi6wsfkxyk/creditcard.csv.zip [following]\n",
            "--2022-04-30 08:31:25--  https://www.dropbox.com/s/raw/9vfy1vi6wsfkxyk/creditcard.csv.zip\n",
            "Reusing existing connection to www.dropbox.com:443.\n",
            "HTTP request sent, awaiting response... 302 Found\n",
            "Location: https://uc81905de84b93b053ef14049c9a.dl.dropboxusercontent.com/cd/0/inline/BkVBM8SdKBDwCY2EwmJElUaNloFEBYn1lUR5fauc1EzFSlSbIaRO2EkkR-gZD44KMDK2XeQITlwUN2F0mzSskz2w6bCsnnzGEidgB2aXQUHmzq6dQOKtnVTmZbbhu3OT0n-PsxvzM00OvIHqB-Pv_nCSspeeAhl5JiZq0I_MHAkbkg/file# [following]\n",
            "--2022-04-30 08:31:25--  https://uc81905de84b93b053ef14049c9a.dl.dropboxusercontent.com/cd/0/inline/BkVBM8SdKBDwCY2EwmJElUaNloFEBYn1lUR5fauc1EzFSlSbIaRO2EkkR-gZD44KMDK2XeQITlwUN2F0mzSskz2w6bCsnnzGEidgB2aXQUHmzq6dQOKtnVTmZbbhu3OT0n-PsxvzM00OvIHqB-Pv_nCSspeeAhl5JiZq0I_MHAkbkg/file\n",
            "Resolving uc81905de84b93b053ef14049c9a.dl.dropboxusercontent.com (uc81905de84b93b053ef14049c9a.dl.dropboxusercontent.com)... 162.125.4.15, 2620:100:6019:15::a27d:40f\n",
            "Connecting to uc81905de84b93b053ef14049c9a.dl.dropboxusercontent.com (uc81905de84b93b053ef14049c9a.dl.dropboxusercontent.com)|162.125.4.15|:443... connected.\n",
            "HTTP request sent, awaiting response... 302 Found\n",
            "Location: /cd/0/inline2/BkVSgzrpWZIAR9yfIfsVAzpZ72jGLFePBgFVgHzxjzQi1PlAzIvSytThYFfENmu-Tn_NZZ8Jyf3yEhobxCfRPTP760AFrdtz0cRU11LaDmzpJMQPj7CxtuWQvnGbRj2vyMVhwylVbPxCVrTzLqhLmJveBRFPQ_kE-8abhazvRtUjFXIfb-Oxoq-0imiDkAwBG-S-JlNjcCR6uf5e57tM5BsgWPpdtCX9pJkrJAOucptg5_B0N-cMBEGhMiDxFsN_49WELjdJewQe41ChFffdhHlM2hr536p2Eqe7ZvUtjXxhlAw4MQM5m0czcixcggxOq_FerUXh6RwpH5mG3yCK0w1qB1IPAq7vii9lumTv2KJLC2gcKYwXd7CI3QqwM0b4xucBCYzVrKqZkC6XeM6Gu2YCe_JEr33gNwqLuS5EBXcU0Q/file [following]\n",
            "--2022-04-30 08:31:26--  https://uc81905de84b93b053ef14049c9a.dl.dropboxusercontent.com/cd/0/inline2/BkVSgzrpWZIAR9yfIfsVAzpZ72jGLFePBgFVgHzxjzQi1PlAzIvSytThYFfENmu-Tn_NZZ8Jyf3yEhobxCfRPTP760AFrdtz0cRU11LaDmzpJMQPj7CxtuWQvnGbRj2vyMVhwylVbPxCVrTzLqhLmJveBRFPQ_kE-8abhazvRtUjFXIfb-Oxoq-0imiDkAwBG-S-JlNjcCR6uf5e57tM5BsgWPpdtCX9pJkrJAOucptg5_B0N-cMBEGhMiDxFsN_49WELjdJewQe41ChFffdhHlM2hr536p2Eqe7ZvUtjXxhlAw4MQM5m0czcixcggxOq_FerUXh6RwpH5mG3yCK0w1qB1IPAq7vii9lumTv2KJLC2gcKYwXd7CI3QqwM0b4xucBCYzVrKqZkC6XeM6Gu2YCe_JEr33gNwqLuS5EBXcU0Q/file\n",
            "Reusing existing connection to uc81905de84b93b053ef14049c9a.dl.dropboxusercontent.com:443.\n",
            "HTTP request sent, awaiting response... 200 OK\n",
            "Length: 69155672 (66M) [application/zip]\n",
            "Saving to: ‘creditcard.csv.zip’\n",
            "\n",
            "creditcard.csv.zip  100%[===================>]  65.95M   169MB/s    in 0.4s    \n",
            "\n",
            "2022-04-30 08:31:26 (169 MB/s) - ‘creditcard.csv.zip’ saved [69155672/69155672]\n",
            "\n"
          ]
        }
      ],
      "source": [
        "!wget https://www.dropbox.com/s/9vfy1vi6wsfkxyk/creditcard.csv.zip"
      ]
    },
    {
      "cell_type": "code",
      "source": [
        "!unzip creditcard.csv.zip"
      ],
      "metadata": {
        "colab": {
          "base_uri": "https://localhost:8080/"
        },
        "id": "9cgnx89NmSo5",
        "outputId": "89a6bf57-c057-4800-fe0c-c00e6ad45d20"
      },
      "execution_count": 2,
      "outputs": [
        {
          "output_type": "stream",
          "name": "stdout",
          "text": [
            "Archive:  creditcard.csv.zip\n",
            "  inflating: creditcard.csv          \n"
          ]
        }
      ]
    },
    {
      "cell_type": "code",
      "source": [
        "import csv\n",
        "import numpy as np"
      ],
      "metadata": {
        "id": "OmWfxDcumWC3"
      },
      "execution_count": 3,
      "outputs": []
    },
    {
      "cell_type": "code",
      "source": [
        "# Get the real data from https://www.kaggle.com/mlg-ulb/creditcardfraud/\n",
        "fname = \"creditcard.csv\"\n",
        "\n",
        "all_features = []\n",
        "all_targets = []\n",
        "with open(fname) as f:\n",
        "    for i, line in enumerate(f):\n",
        "        if i == 0:\n",
        "            print(\"HEADER:\", line.strip())\n",
        "            continue  # Skip header\n",
        "        fields = line.strip().split(\",\")\n",
        "        all_features.append([float(v.replace('\"', \"\")) for v in fields[:-1]])\n",
        "        all_targets.append([int(fields[-1].replace('\"', \"\"))])\n",
        "        if i == 1:\n",
        "            print(\"EXAMPLE FEATURES:\", all_features[-1])\n",
        "\n",
        "features = np.array(all_features, dtype=\"float32\")\n",
        "targets = np.array(all_targets, dtype=\"uint8\")\n",
        "print(\"features.shape:\", features.shape)\n",
        "print(\"targets.shape:\", targets.shape)"
      ],
      "metadata": {
        "colab": {
          "base_uri": "https://localhost:8080/"
        },
        "id": "qmv4p_ILmZZ_",
        "outputId": "c609ed2d-0d48-46f8-c558-4bb73741c819"
      },
      "execution_count": 4,
      "outputs": [
        {
          "output_type": "stream",
          "name": "stdout",
          "text": [
            "HEADER: \"Time\",\"V1\",\"V2\",\"V3\",\"V4\",\"V5\",\"V6\",\"V7\",\"V8\",\"V9\",\"V10\",\"V11\",\"V12\",\"V13\",\"V14\",\"V15\",\"V16\",\"V17\",\"V18\",\"V19\",\"V20\",\"V21\",\"V22\",\"V23\",\"V24\",\"V25\",\"V26\",\"V27\",\"V28\",\"Amount\",\"Class\"\n",
            "EXAMPLE FEATURES: [0.0, -1.3598071336738, -0.0727811733098497, 2.53634673796914, 1.37815522427443, -0.338320769942518, 0.462387777762292, 0.239598554061257, 0.0986979012610507, 0.363786969611213, 0.0907941719789316, -0.551599533260813, -0.617800855762348, -0.991389847235408, -0.311169353699879, 1.46817697209427, -0.470400525259478, 0.207971241929242, 0.0257905801985591, 0.403992960255733, 0.251412098239705, -0.018306777944153, 0.277837575558899, -0.110473910188767, 0.0669280749146731, 0.128539358273528, -0.189114843888824, 0.133558376740387, -0.0210530534538215, 149.62]\n",
            "features.shape: (284807, 30)\n",
            "targets.shape: (284807, 1)\n"
          ]
        }
      ]
    },
    {
      "cell_type": "code",
      "source": [
        "num_val_samples = int(len(features) * 0.2)\n",
        "train_features = features[:-num_val_samples]\n",
        "train_targets = targets[:-num_val_samples]\n",
        "val_features = features[-num_val_samples:]\n",
        "val_targets = targets[-num_val_samples:]\n",
        "\n",
        "print(\"Number of training samples:\", len(train_features))\n",
        "print(\"Number of validation samples:\", len(val_features))"
      ],
      "metadata": {
        "colab": {
          "base_uri": "https://localhost:8080/"
        },
        "id": "YrOWHVwIme8t",
        "outputId": "98f9210c-2d68-4913-c486-90965df1096c"
      },
      "execution_count": 5,
      "outputs": [
        {
          "output_type": "stream",
          "name": "stdout",
          "text": [
            "Number of training samples: 227846\n",
            "Number of validation samples: 56961\n"
          ]
        }
      ]
    },
    {
      "cell_type": "code",
      "source": [
        "counts = np.bincount(train_targets[:, 0])\n",
        "print(\n",
        "    \"Number of positive samples in training data: {} ({:.2f}% of total)\".format(\n",
        "        counts[1], 100 * float(counts[1]) / len(train_targets)\n",
        "    )\n",
        ")\n",
        "\n",
        "weight_for_0 = 1.0 / counts[0]\n",
        "weight_for_1 = 1.0 / counts[1]"
      ],
      "metadata": {
        "colab": {
          "base_uri": "https://localhost:8080/"
        },
        "id": "ANwsYunsmip6",
        "outputId": "9be9ff8a-f762-4a15-eb87-6525d6bffb1d"
      },
      "execution_count": 6,
      "outputs": [
        {
          "output_type": "stream",
          "name": "stdout",
          "text": [
            "Number of positive samples in training data: 417 (0.18% of total)\n"
          ]
        }
      ]
    },
    {
      "cell_type": "code",
      "source": [
        "mean = np.mean(train_features, axis=0)\n",
        "train_features -= mean\n",
        "val_features -= mean\n",
        "std = np.std(train_features, axis=0)\n",
        "train_features /= std\n",
        "val_features /= std"
      ],
      "metadata": {
        "id": "WpUO6AxemlW9"
      },
      "execution_count": 7,
      "outputs": []
    },
    {
      "cell_type": "code",
      "source": [
        "from tensorflow import keras\n",
        "\n",
        "hid_size = 256\n",
        "model = keras.Sequential(\n",
        "    [\n",
        "        keras.layers.Dense(\n",
        "            hid_size, activation=\"relu\", input_shape=(train_features.shape[-1],)\n",
        "        ), # fully-connected y^1\n",
        "        keras.layers.Dense(hid_size, activation=\"relu\"), # y^2\n",
        "        keras.layers.Dropout(0.3),\n",
        "        keras.layers.Dense(hid_size, activation=\"relu\"), # y^3\n",
        "        keras.layers.Dropout(0.3),\n",
        "        keras.layers.Dense(1, activation=\"sigmoid\"), # y^4\n",
        "    ]\n",
        ")\n",
        "model.summary()\n",
        "\n",
        "# x_1 = x_2 \n",
        "# w_1 w_2\n",
        "# w_1 = -w_2\n",
        "\n",
        "# w_1 * x_1 + w_2 * x_2 = 0"
      ],
      "metadata": {
        "colab": {
          "base_uri": "https://localhost:8080/"
        },
        "id": "-wvXd1rRmpEy",
        "outputId": "41f2e419-e1f1-4435-ec95-6bfcbc889672"
      },
      "execution_count": 8,
      "outputs": [
        {
          "output_type": "stream",
          "name": "stdout",
          "text": [
            "Model: \"sequential\"\n",
            "_________________________________________________________________\n",
            " Layer (type)                Output Shape              Param #   \n",
            "=================================================================\n",
            " dense (Dense)               (None, 256)               7936      \n",
            "                                                                 \n",
            " dense_1 (Dense)             (None, 256)               65792     \n",
            "                                                                 \n",
            " dropout (Dropout)           (None, 256)               0         \n",
            "                                                                 \n",
            " dense_2 (Dense)             (None, 256)               65792     \n",
            "                                                                 \n",
            " dropout_1 (Dropout)         (None, 256)               0         \n",
            "                                                                 \n",
            " dense_3 (Dense)             (None, 1)                 257       \n",
            "                                                                 \n",
            "=================================================================\n",
            "Total params: 139,777\n",
            "Trainable params: 139,777\n",
            "Non-trainable params: 0\n",
            "_________________________________________________________________\n"
          ]
        }
      ]
    },
    {
      "cell_type": "code",
      "source": [
        "metrics = [\n",
        "    keras.metrics.FalseNegatives(name=\"fn\"),\n",
        "    keras.metrics.FalsePositives(name=\"fp\"),\n",
        "    keras.metrics.TrueNegatives(name=\"tn\"),\n",
        "    keras.metrics.TruePositives(name=\"tp\"),\n",
        "    keras.metrics.Precision(name=\"precision\"),\n",
        "    keras.metrics.Recall(name=\"recall\"),\n",
        "]\n",
        "\n",
        "model.compile(\n",
        "    optimizer=keras.optimizers.Adam(1e-2), loss=\"binary_crossentropy\", metrics=metrics\n",
        ")\n",
        "\n",
        "callbacks = [keras.callbacks.ModelCheckpoint(\"fraud_model_at_epoch_{epoch}.h5\")]\n",
        "class_weight = {0: weight_for_0, 1: weight_for_1}"
      ],
      "metadata": {
        "id": "JPv_VmTfm0iZ"
      },
      "execution_count": 9,
      "outputs": []
    },
    {
      "cell_type": "code",
      "source": [
        "model.fit(\n",
        "    train_features,\n",
        "    train_targets,\n",
        "    batch_size=2048,\n",
        "    epochs=30,\n",
        "    verbose=2,\n",
        "    callbacks=callbacks,\n",
        "    validation_data=(val_features, val_targets),\n",
        "    class_weight=class_weight,\n",
        ")"
      ],
      "metadata": {
        "colab": {
          "base_uri": "https://localhost:8080/"
        },
        "id": "poXHkwo9m0oI",
        "outputId": "14125fec-409a-4d56-a09d-978a4cff3784"
      },
      "execution_count": 10,
      "outputs": [
        {
          "output_type": "stream",
          "name": "stdout",
          "text": [
            "Epoch 1/30\n",
            "112/112 - 8s - loss: 2.0968e-06 - fn: 44.0000 - fp: 21379.0000 - tn: 206050.0000 - tp: 373.0000 - precision: 0.0171 - recall: 0.8945 - val_loss: 0.0537 - val_fn: 11.0000 - val_fp: 727.0000 - val_tn: 56159.0000 - val_tp: 64.0000 - val_precision: 0.0809 - val_recall: 0.8533 - 8s/epoch - 71ms/step\n",
            "Epoch 2/30\n",
            "112/112 - 6s - loss: 1.3090e-06 - fn: 35.0000 - fp: 8123.0000 - tn: 219306.0000 - tp: 382.0000 - precision: 0.0449 - recall: 0.9161 - val_loss: 0.0443 - val_fn: 10.0000 - val_fp: 474.0000 - val_tn: 56412.0000 - val_tp: 65.0000 - val_precision: 0.1206 - val_recall: 0.8667 - 6s/epoch - 50ms/step\n",
            "Epoch 3/30\n",
            "112/112 - 6s - loss: 1.1629e-06 - fn: 27.0000 - fp: 7839.0000 - tn: 219590.0000 - tp: 390.0000 - precision: 0.0474 - recall: 0.9353 - val_loss: 0.0479 - val_fn: 9.0000 - val_fp: 832.0000 - val_tn: 56054.0000 - val_tp: 66.0000 - val_precision: 0.0735 - val_recall: 0.8800 - 6s/epoch - 51ms/step\n",
            "Epoch 4/30\n",
            "112/112 - 6s - loss: 1.2293e-06 - fn: 30.0000 - fp: 9827.0000 - tn: 217602.0000 - tp: 387.0000 - precision: 0.0379 - recall: 0.9281 - val_loss: 0.1092 - val_fn: 5.0000 - val_fp: 1901.0000 - val_tn: 54985.0000 - val_tp: 70.0000 - val_precision: 0.0355 - val_recall: 0.9333 - 6s/epoch - 51ms/step\n",
            "Epoch 5/30\n",
            "112/112 - 6s - loss: 8.9937e-07 - fn: 22.0000 - fp: 6557.0000 - tn: 220872.0000 - tp: 395.0000 - precision: 0.0568 - recall: 0.9472 - val_loss: 0.0423 - val_fn: 8.0000 - val_fp: 632.0000 - val_tn: 56254.0000 - val_tp: 67.0000 - val_precision: 0.0959 - val_recall: 0.8933 - 6s/epoch - 51ms/step\n",
            "Epoch 6/30\n",
            "112/112 - 6s - loss: 9.5940e-07 - fn: 22.0000 - fp: 7951.0000 - tn: 219478.0000 - tp: 395.0000 - precision: 0.0473 - recall: 0.9472 - val_loss: 0.0869 - val_fn: 6.0000 - val_fp: 1907.0000 - val_tn: 54979.0000 - val_tp: 69.0000 - val_precision: 0.0349 - val_recall: 0.9200 - 6s/epoch - 50ms/step\n",
            "Epoch 7/30\n",
            "112/112 - 6s - loss: 8.0493e-07 - fn: 18.0000 - fp: 6681.0000 - tn: 220748.0000 - tp: 399.0000 - precision: 0.0564 - recall: 0.9568 - val_loss: 0.0397 - val_fn: 8.0000 - val_fp: 871.0000 - val_tn: 56015.0000 - val_tp: 67.0000 - val_precision: 0.0714 - val_recall: 0.8933 - 6s/epoch - 50ms/step\n",
            "Epoch 8/30\n",
            "112/112 - 6s - loss: 6.2233e-07 - fn: 10.0000 - fp: 6001.0000 - tn: 221428.0000 - tp: 407.0000 - precision: 0.0635 - recall: 0.9760 - val_loss: 0.0325 - val_fn: 9.0000 - val_fp: 563.0000 - val_tn: 56323.0000 - val_tp: 66.0000 - val_precision: 0.1049 - val_recall: 0.8800 - 6s/epoch - 50ms/step\n",
            "Epoch 9/30\n",
            "112/112 - 6s - loss: 3.0469e-06 - fn: 22.0000 - fp: 8756.0000 - tn: 218673.0000 - tp: 395.0000 - precision: 0.0432 - recall: 0.9472 - val_loss: 0.3179 - val_fn: 5.0000 - val_fp: 4330.0000 - val_tn: 52556.0000 - val_tp: 70.0000 - val_precision: 0.0159 - val_recall: 0.9333 - 6s/epoch - 51ms/step\n",
            "Epoch 10/30\n",
            "112/112 - 6s - loss: 1.5164e-06 - fn: 30.0000 - fp: 6661.0000 - tn: 220768.0000 - tp: 387.0000 - precision: 0.0549 - recall: 0.9281 - val_loss: 0.2478 - val_fn: 4.0000 - val_fp: 4235.0000 - val_tn: 52651.0000 - val_tp: 71.0000 - val_precision: 0.0165 - val_recall: 0.9467 - 6s/epoch - 50ms/step\n",
            "Epoch 11/30\n",
            "112/112 - 6s - loss: 1.0020e-06 - fn: 18.0000 - fp: 6414.0000 - tn: 221015.0000 - tp: 399.0000 - precision: 0.0586 - recall: 0.9568 - val_loss: 0.0336 - val_fn: 9.0000 - val_fp: 462.0000 - val_tn: 56424.0000 - val_tp: 66.0000 - val_precision: 0.1250 - val_recall: 0.8800 - 6s/epoch - 50ms/step\n",
            "Epoch 12/30\n",
            "112/112 - 6s - loss: 5.3985e-07 - fn: 8.0000 - fp: 4095.0000 - tn: 223334.0000 - tp: 409.0000 - precision: 0.0908 - recall: 0.9808 - val_loss: 0.0345 - val_fn: 9.0000 - val_fp: 619.0000 - val_tn: 56267.0000 - val_tp: 66.0000 - val_precision: 0.0964 - val_recall: 0.8800 - 6s/epoch - 51ms/step\n",
            "Epoch 13/30\n",
            "112/112 - 6s - loss: 8.0963e-07 - fn: 11.0000 - fp: 6256.0000 - tn: 221173.0000 - tp: 406.0000 - precision: 0.0609 - recall: 0.9736 - val_loss: 0.0321 - val_fn: 9.0000 - val_fp: 566.0000 - val_tn: 56320.0000 - val_tp: 66.0000 - val_precision: 0.1044 - val_recall: 0.8800 - 6s/epoch - 50ms/step\n",
            "Epoch 14/30\n",
            "112/112 - 6s - loss: 6.0211e-07 - fn: 7.0000 - fp: 6073.0000 - tn: 221356.0000 - tp: 410.0000 - precision: 0.0632 - recall: 0.9832 - val_loss: 0.0339 - val_fn: 7.0000 - val_fp: 726.0000 - val_tn: 56160.0000 - val_tp: 68.0000 - val_precision: 0.0856 - val_recall: 0.9067 - 6s/epoch - 50ms/step\n",
            "Epoch 15/30\n",
            "112/112 - 6s - loss: 5.4598e-07 - fn: 7.0000 - fp: 5194.0000 - tn: 222235.0000 - tp: 410.0000 - precision: 0.0732 - recall: 0.9832 - val_loss: 0.0406 - val_fn: 8.0000 - val_fp: 933.0000 - val_tn: 55953.0000 - val_tp: 67.0000 - val_precision: 0.0670 - val_recall: 0.8933 - 6s/epoch - 52ms/step\n",
            "Epoch 16/30\n",
            "112/112 - 6s - loss: 5.7194e-07 - fn: 6.0000 - fp: 5475.0000 - tn: 221954.0000 - tp: 411.0000 - precision: 0.0698 - recall: 0.9856 - val_loss: 0.0520 - val_fn: 8.0000 - val_fp: 1585.0000 - val_tn: 55301.0000 - val_tp: 67.0000 - val_precision: 0.0406 - val_recall: 0.8933 - 6s/epoch - 53ms/step\n",
            "Epoch 17/30\n",
            "112/112 - 6s - loss: 4.4231e-07 - fn: 5.0000 - fp: 4935.0000 - tn: 222494.0000 - tp: 412.0000 - precision: 0.0771 - recall: 0.9880 - val_loss: 0.0161 - val_fn: 10.0000 - val_fp: 341.0000 - val_tn: 56545.0000 - val_tp: 65.0000 - val_precision: 0.1601 - val_recall: 0.8667 - 6s/epoch - 50ms/step\n",
            "Epoch 18/30\n",
            "112/112 - 6s - loss: 4.0294e-07 - fn: 6.0000 - fp: 3907.0000 - tn: 223522.0000 - tp: 411.0000 - precision: 0.0952 - recall: 0.9856 - val_loss: 0.0288 - val_fn: 9.0000 - val_fp: 739.0000 - val_tn: 56147.0000 - val_tp: 66.0000 - val_precision: 0.0820 - val_recall: 0.8800 - 6s/epoch - 50ms/step\n",
            "Epoch 19/30\n",
            "112/112 - 6s - loss: 3.0440e-07 - fn: 3.0000 - fp: 3942.0000 - tn: 223487.0000 - tp: 414.0000 - precision: 0.0950 - recall: 0.9928 - val_loss: 0.0488 - val_fn: 8.0000 - val_fp: 1064.0000 - val_tn: 55822.0000 - val_tp: 67.0000 - val_precision: 0.0592 - val_recall: 0.8933 - 6s/epoch - 50ms/step\n",
            "Epoch 20/30\n",
            "112/112 - 6s - loss: 3.6842e-07 - fn: 5.0000 - fp: 4659.0000 - tn: 222770.0000 - tp: 412.0000 - precision: 0.0812 - recall: 0.9880 - val_loss: 0.0226 - val_fn: 8.0000 - val_fp: 589.0000 - val_tn: 56297.0000 - val_tp: 67.0000 - val_precision: 0.1021 - val_recall: 0.8933 - 6s/epoch - 50ms/step\n",
            "Epoch 21/30\n",
            "112/112 - 6s - loss: 3.6667e-07 - fn: 4.0000 - fp: 4373.0000 - tn: 223056.0000 - tp: 413.0000 - precision: 0.0863 - recall: 0.9904 - val_loss: 0.0469 - val_fn: 8.0000 - val_fp: 842.0000 - val_tn: 56044.0000 - val_tp: 67.0000 - val_precision: 0.0737 - val_recall: 0.8933 - 6s/epoch - 50ms/step\n",
            "Epoch 22/30\n",
            "112/112 - 6s - loss: 4.1260e-07 - fn: 4.0000 - fp: 4326.0000 - tn: 223103.0000 - tp: 413.0000 - precision: 0.0871 - recall: 0.9904 - val_loss: 0.0284 - val_fn: 7.0000 - val_fp: 647.0000 - val_tn: 56239.0000 - val_tp: 68.0000 - val_precision: 0.0951 - val_recall: 0.9067 - 6s/epoch - 50ms/step\n",
            "Epoch 23/30\n",
            "112/112 - 6s - loss: 2.9600e-07 - fn: 4.0000 - fp: 3484.0000 - tn: 223945.0000 - tp: 413.0000 - precision: 0.1060 - recall: 0.9904 - val_loss: 0.0468 - val_fn: 8.0000 - val_fp: 1208.0000 - val_tn: 55678.0000 - val_tp: 67.0000 - val_precision: 0.0525 - val_recall: 0.8933 - 6s/epoch - 50ms/step\n",
            "Epoch 24/30\n",
            "112/112 - 6s - loss: 2.4782e-07 - fn: 1.0000 - fp: 3296.0000 - tn: 224133.0000 - tp: 416.0000 - precision: 0.1121 - recall: 0.9976 - val_loss: 0.0166 - val_fn: 12.0000 - val_fp: 350.0000 - val_tn: 56536.0000 - val_tp: 63.0000 - val_precision: 0.1525 - val_recall: 0.8400 - 6s/epoch - 50ms/step\n",
            "Epoch 25/30\n",
            "112/112 - 6s - loss: 3.0801e-07 - fn: 2.0000 - fp: 3817.0000 - tn: 223612.0000 - tp: 415.0000 - precision: 0.0981 - recall: 0.9952 - val_loss: 0.0394 - val_fn: 8.0000 - val_fp: 1243.0000 - val_tn: 55643.0000 - val_tp: 67.0000 - val_precision: 0.0511 - val_recall: 0.8933 - 6s/epoch - 50ms/step\n",
            "Epoch 26/30\n",
            "112/112 - 6s - loss: 5.7793e-07 - fn: 6.0000 - fp: 7794.0000 - tn: 219635.0000 - tp: 411.0000 - precision: 0.0501 - recall: 0.9856 - val_loss: 0.0325 - val_fn: 8.0000 - val_fp: 830.0000 - val_tn: 56056.0000 - val_tp: 67.0000 - val_precision: 0.0747 - val_recall: 0.8933 - 6s/epoch - 50ms/step\n",
            "Epoch 27/30\n",
            "112/112 - 6s - loss: 7.2808e-07 - fn: 9.0000 - fp: 8271.0000 - tn: 219158.0000 - tp: 408.0000 - precision: 0.0470 - recall: 0.9784 - val_loss: 0.1201 - val_fn: 8.0000 - val_fp: 4265.0000 - val_tn: 52621.0000 - val_tp: 67.0000 - val_precision: 0.0155 - val_recall: 0.8933 - 6s/epoch - 50ms/step\n",
            "Epoch 28/30\n",
            "112/112 - 6s - loss: 1.3435e-06 - fn: 8.0000 - fp: 5774.0000 - tn: 221655.0000 - tp: 409.0000 - precision: 0.0661 - recall: 0.9808 - val_loss: 0.0390 - val_fn: 13.0000 - val_fp: 706.0000 - val_tn: 56180.0000 - val_tp: 62.0000 - val_precision: 0.0807 - val_recall: 0.8267 - 6s/epoch - 50ms/step\n",
            "Epoch 29/30\n",
            "112/112 - 6s - loss: 4.0827e-06 - fn: 10.0000 - fp: 4445.0000 - tn: 222984.0000 - tp: 407.0000 - precision: 0.0839 - recall: 0.9760 - val_loss: 0.0488 - val_fn: 10.0000 - val_fp: 669.0000 - val_tn: 56217.0000 - val_tp: 65.0000 - val_precision: 0.0886 - val_recall: 0.8667 - 6s/epoch - 50ms/step\n",
            "Epoch 30/30\n",
            "112/112 - 6s - loss: 7.8232e-07 - fn: 8.0000 - fp: 3528.0000 - tn: 223901.0000 - tp: 409.0000 - precision: 0.1039 - recall: 0.9808 - val_loss: 0.0473 - val_fn: 9.0000 - val_fp: 881.0000 - val_tn: 56005.0000 - val_tp: 66.0000 - val_precision: 0.0697 - val_recall: 0.8800 - 6s/epoch - 50ms/step\n"
          ]
        },
        {
          "output_type": "execute_result",
          "data": {
            "text/plain": [
              "<keras.callbacks.History at 0x7f60c2542d90>"
            ]
          },
          "metadata": {},
          "execution_count": 10
        }
      ]
    },
    {
      "cell_type": "markdown",
      "source": [
        "# n_samples ~ 300000\n",
        "# batch_size ~ 3000\n",
        "# n_steps ~ 100\n",
        "# n_epochs ~ 1"
      ],
      "metadata": {
        "id": "w-i4R4gLnUCH"
      }
    },
    {
      "cell_type": "code",
      "source": [
        ""
      ],
      "metadata": {
        "id": "NLH75dLlnVO4"
      },
      "execution_count": null,
      "outputs": []
    }
  ]
}